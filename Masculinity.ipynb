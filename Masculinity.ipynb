{
 "cells": [
  {
   "cell_type": "markdown",
   "metadata": {},
   "source": [
    "## Masculinity Survey\n",
    "#### Ideas about masculinity\n",
    "\n",
    "masculinity-survey.csv contains the results of a survey of 1,615 adult men conducted by SurveyMonkey in partnership with FiveThirtyEight and WNYC Studios from May 10-22, 2018. The modeled error estimate for this survey is plus or minus 2.5 percentage points. The percentages have been weighted for age, race, education, and geography using the Census Bureau’s American Community Survey to reflect the demographic composition of the United States age 18 and over. Crosstabs with less than 100 respondents have been left blank because responses would not be statistically significant.\n",
    "\n",
    "raw-responses.csv contains all 1,615 responses to the survey including the weights for each response. Responses to open-ended questions have been omitted, including those where a respondent explained what they meant by selecting the \"other\" option in response to a question."
   ]
  },
  {
   "cell_type": "markdown",
   "metadata": {},
   "source": [
    "The columns of the raw responses were named numerically - 'question 0001', etc. The data providers had also already created dummy variable like columns for any question that allowed respondents to select more than one response.\n",
    "\n",
    "The structure of the survey created an interesting problem in terms of handling null values- the survey had two sections that were only available to respondents with specific responses to previous questions:\n",
    "\n",
    "A section for men who were currently employed(men who answered not currently unemployed did not see this section)\n",
    "\n",
    "A section for men who \n"
   ]
  },
  {
   "cell_type": "code",
   "execution_count": 2,
   "metadata": {},
   "outputs": [],
   "source": [
    "import pandas as pd\n",
    "import numpy as np\n",
    "import seaborn as sns\n",
    "import matplotlib.pyplot as plt\n",
    "\n",
    "%matplotlib inline"
   ]
  },
  {
   "cell_type": "code",
   "execution_count": 3,
   "metadata": {},
   "outputs": [],
   "source": [
    "responses = pd.read_excel('masculinity-responses-renamed.xlsx')"
   ]
  },
  {
   "cell_type": "code",
   "execution_count": 4,
   "metadata": {},
   "outputs": [
    {
     "name": "stdout",
     "output_type": "stream",
     "text": [
      "<class 'pandas.core.frame.DataFrame'>\n",
      "Int64Index: 1615 entries, 1 to 1615\n",
      "Data columns (total 97 columns):\n",
      "StartDate                    1615 non-null datetime64[ns]\n",
      "EndDate                      1615 non-null datetime64[ns]\n",
      "self_manly                   1615 non-null object\n",
      "others_manly                 1615 non-null object\n",
      "source_ideas_father          1615 non-null object\n",
      "source_ideas_mother          1615 non-null object\n",
      "source_ideas_friends         1615 non-null object\n",
      "source_ideas_fam             1615 non-null object\n",
      "source_ideas_popculture      1615 non-null object\n",
      "source_ideas_other           1615 non-null object\n",
      "societal_pressure            1615 non-null object\n",
      "prof_advice                  1615 non-null object\n",
      "personal_advice              1615 non-null object\n",
      "phys_aff                     1615 non-null object\n",
      "cry                          1615 non-null object\n",
      "phys_fight                   1615 non-null object\n",
      "sex_women                    1615 non-null object\n",
      "sex_men                      1615 non-null object\n",
      "sports                       1615 non-null object\n",
      "workout                      1615 non-null object\n",
      "therapist                    1615 non-null object\n",
      "lonely                       1615 non-null object\n",
      "worry_height                 1615 non-null object\n",
      "worry_weight                 1615 non-null object\n",
      "worry_hair                   1615 non-null object\n",
      "worry_physique               1615 non-null object\n",
      "worry_genitalia              1615 non-null object\n",
      "worry_style                  1615 non-null object\n",
      "worry_sex                    1615 non-null object\n",
      "worry_mental_health          1615 non-null object\n",
      "worry_phys_health            1615 non-null object\n",
      "worry_finances               1615 non-null object\n",
      "worry_provide                1615 non-null object\n",
      "no_worries                   1615 non-null object\n",
      "Employment                   1615 non-null object\n",
      "men_earn_more                880 non-null object\n",
      "men_taken_serious            880 non-null object\n",
      "men_more_choice              880 non-null object\n",
      "men_more_promo               880 non-null object\n",
      "mean_more_praise             880 non-null object\n",
      "men_more_support             880 non-null object\n",
      "no_male_advantages           880 non-null object\n",
      "men_advantage_other          880 non-null object\n",
      "hire_women                   880 non-null object\n",
      "sex_harass                   880 non-null object\n",
      "sexist_racist                880 non-null object\n",
      "men_disadvantage_none        880 non-null object\n",
      "men_disadvantage_other       880 non-null object\n",
      "harass_confront              880 non-null object\n",
      "harass_HR                    880 non-null object\n",
      "harass_manager               880 non-null object\n",
      "harass_support               880 non-null object\n",
      "harass_no_response           880 non-null object\n",
      "harass_never_seen            880 non-null object\n",
      "harass_other                 880 non-null object\n",
      "harass_no_response_reason    49 non-null object\n",
      "me_too                       880 non-null object\n",
      "me_too_change_behavior       742 non-null object\n",
      "first_move                   1615 non-null object\n",
      "pay_date                     1615 non-null object\n",
      "pay_right_thing              1251 non-null object\n",
      "pay_make_more                1251 non-null object\n",
      "pay_feel_good                1251 non-null object\n",
      "pay_expectation              1251 non-null object\n",
      "pay_initiator_obligation     1251 non-null object\n",
      "pay_test_share               1251 non-null object\n",
      "pay_other                    1251 non-null object\n",
      "int_body_lang                1615 non-null object\n",
      "int_verb_conf                1615 non-null object\n",
      "int_phys_move                1615 non-null object\n",
      "int_diff_sit                 1615 non-null object\n",
      "int_unclear                  1615 non-null object\n",
      "int_other                    1615 non-null object\n",
      "bound_wonder                 1615 non-null object\n",
      "bound_talk                   1615 non-null object\n",
      "bound_contact                1615 non-null object\n",
      "bound_none                   1615 non-null object\n",
      "me_too_work_behavior         1615 non-null object\n",
      "marital_status               1615 non-null object\n",
      "children_u18                 1615 non-null object\n",
      "children_18+                 1615 non-null object\n",
      "children_none                1615 non-null object\n",
      "orientation                  1615 non-null object\n",
      "race                         1615 non-null object\n",
      "education                    1615 non-null object\n",
      "state                        1615 non-null object\n",
      "income                       1613 non-null object\n",
      "region                       1595 non-null object\n",
      "device                       1613 non-null object\n",
      "race2                        1615 non-null object\n",
      "racethn4                     1615 non-null object\n",
      "educ3                        1615 non-null object\n",
      "educ4                        1615 non-null object\n",
      "age3                         1615 non-null object\n",
      "kids                         1606 non-null object\n",
      "orientation.1                1615 non-null object\n",
      "weight                       1615 non-null float64\n",
      "dtypes: datetime64[ns](2), float64(1), object(94)\n",
      "memory usage: 1.2+ MB\n"
     ]
    }
   ],
   "source": [
    "responses.info()"
   ]
  },
  {
   "cell_type": "code",
   "execution_count": null,
   "metadata": {},
   "outputs": [],
   "source": []
  }
 ],
 "metadata": {
  "kernelspec": {
   "display_name": "Python 3",
   "language": "python",
   "name": "python3"
  },
  "language_info": {
   "codemirror_mode": {
    "name": "ipython",
    "version": 3
   },
   "file_extension": ".py",
   "mimetype": "text/x-python",
   "name": "python",
   "nbconvert_exporter": "python",
   "pygments_lexer": "ipython3",
   "version": "3.7.0"
  }
 },
 "nbformat": 4,
 "nbformat_minor": 2
}
