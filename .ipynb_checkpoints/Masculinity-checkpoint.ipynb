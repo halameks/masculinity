{
 "cells": [
  {
   "cell_type": "markdown",
   "metadata": {},
   "source": [
    "## Masculinity Survey\n",
    "#### Ideas about masculinity\n",
    "\n",
    "masculinity-survey.csv contains the results of a survey of 1,615 adult men conducted by SurveyMonkey in partnership with FiveThirtyEight and WNYC Studios from May 10-22, 2018. The modeled error estimate for this survey is plus or minus 2.5 percentage points. The percentages have been weighted for age, race, education, and geography using the Census Bureau’s American Community Survey to reflect the demographic composition of the United States age 18 and over. Crosstabs with less than 100 respondents have been left blank because responses would not be statistically significant.\n",
    "\n",
    "raw-responses.csv contains all 1,615 responses to the survey including the weights for each response. Responses to open-ended questions have been omitted, including those where a respondent explained what they meant by selecting the \"other\" option in response to a question."
   ]
  },
  {
   "cell_type": "markdown",
   "metadata": {},
   "source": [
    "https://github.com/fivethirtyeight/data/blob/master/masculinity-survey/masculinity-survey.pdf"
   ]
  },
  {
   "cell_type": "markdown",
   "metadata": {},
   "source": [
    "The columns of the raw responses were named numerically - 'question 0001', etc. The data providers had also already created dummy variable like columns for any question that allowed respondents to select more than one response.\n",
    "\n",
    "The structure of the survey created an interesting problem in terms of handling null values- the survey had 20 questions that all respondents saw, but then up to 10 additional questions that only a subset of respondents saw, based on responses to previous questions. These were dispersed throughout the survey. So- if a respondent did not see a question- what should I do with that \"null\" value?\n",
    "\n",
    "In this case, it didn't make sense to me to fill it with a value (either mean or most common categorical, etc.)- it seems like that would be creating too much 'fake' data, that would potentially skew the results.\n",
    "\n",
    "For example, the biggest split happened at the question asking about employment- of 1651 survey takers, 880 were partially or fully employed, and 771 were not currently employed. Thus, if I wanted to predict on any of the questions only seen by Employed men, I would be working with 880 values, not 1651.\n"
   ]
  },
  {
   "cell_type": "code",
   "execution_count": 1,
   "metadata": {},
   "outputs": [],
   "source": [
    "import pandas as pd\n",
    "import numpy as np\n",
    "import seaborn as sns\n",
    "import matplotlib.pyplot as plt\n",
    "\n",
    "%matplotlib inline"
   ]
  },
  {
   "cell_type": "code",
   "execution_count": 23,
   "metadata": {},
   "outputs": [],
   "source": [
    "responses = pd.read_excel('masculinity-responses-renamed.xlsx')"
   ]
  },
  {
   "cell_type": "code",
   "execution_count": 25,
   "metadata": {},
   "outputs": [
    {
     "name": "stdout",
     "output_type": "stream",
     "text": [
      "<class 'pandas.core.frame.DataFrame'>\n",
      "Int64Index: 1615 entries, 1 to 1615\n",
      "Data columns (total 97 columns):\n",
      "StartDate                    1615 non-null datetime64[ns]\n",
      "EndDate                      1615 non-null datetime64[ns]\n",
      "self_manly                   1615 non-null object\n",
      "others_manly                 1615 non-null object\n",
      "source_ideas_father          1615 non-null object\n",
      "source_ideas_mother          1615 non-null object\n",
      "source_ideas_family          1615 non-null object\n",
      "source_ideas_popculture      1615 non-null object\n",
      "source_ideas_friends         1615 non-null object\n",
      "source_ideas_other           1615 non-null object\n",
      "societal_pressure            1615 non-null object\n",
      "prof_advice                  1615 non-null object\n",
      "personal_advice              1615 non-null object\n",
      "phys_aff                     1615 non-null object\n",
      "cry                          1615 non-null object\n",
      "phys_fight                   1615 non-null object\n",
      "sex_women                    1615 non-null object\n",
      "sex_men                      1615 non-null object\n",
      "sports                       1615 non-null object\n",
      "workout                      1615 non-null object\n",
      "therapist                    1615 non-null object\n",
      "lonely                       1615 non-null object\n",
      "worry_height                 1615 non-null object\n",
      "worry_weight                 1615 non-null object\n",
      "worry_hair                   1615 non-null object\n",
      "worry_physique               1615 non-null object\n",
      "worry_genitalia              1615 non-null object\n",
      "worry_style                  1615 non-null object\n",
      "worry_sex                    1615 non-null object\n",
      "worry_mental_health          1615 non-null object\n",
      "worry_phys_health            1615 non-null object\n",
      "worry_finances               1615 non-null object\n",
      "worry_provide                1615 non-null object\n",
      "no_worries                   1615 non-null object\n",
      "Employment                   1615 non-null object\n",
      "men_earn_more                880 non-null object\n",
      "men_taken_serious            880 non-null object\n",
      "men_more_choice              880 non-null object\n",
      "men_more_promo               880 non-null object\n",
      "mean_more_praise             880 non-null object\n",
      "men_more_support             880 non-null object\n",
      "no_male_advantages           880 non-null object\n",
      "men_advantage_other          880 non-null object\n",
      "hire_women                   880 non-null object\n",
      "sex_harass                   880 non-null object\n",
      "sexist_racist                880 non-null object\n",
      "men_disadvantage_none        880 non-null object\n",
      "men_disadvantage_other       880 non-null object\n",
      "harass_confront              880 non-null object\n",
      "harass_HR                    880 non-null object\n",
      "harass_manager               880 non-null object\n",
      "harass_support               880 non-null object\n",
      "harass_no_response           880 non-null object\n",
      "harass_never_seen            880 non-null object\n",
      "harass_other                 880 non-null object\n",
      "harass_no_response_reason    49 non-null object\n",
      "me_too_awareness             880 non-null object\n",
      "me_too_work_behavior         742 non-null object\n",
      "first_move                   1615 non-null object\n",
      "pay_date                     1615 non-null object\n",
      "pay_right_thing              1251 non-null object\n",
      "pay_make_more                1251 non-null object\n",
      "pay_feel_good                1251 non-null object\n",
      "pay_expectation              1251 non-null object\n",
      "pay_initiator_obligation     1251 non-null object\n",
      "pay_test_share               1251 non-null object\n",
      "pay_other                    1251 non-null object\n",
      "int_body_lang                1615 non-null object\n",
      "int_verb_conf                1615 non-null object\n",
      "int_phys_move                1615 non-null object\n",
      "int_diff_sit                 1615 non-null object\n",
      "int_unclear                  1615 non-null object\n",
      "int_other                    1615 non-null object\n",
      "bound_wonder                 1615 non-null object\n",
      "bound_talk                   1615 non-null object\n",
      "bound_contact                1615 non-null object\n",
      "bound_none                   1615 non-null object\n",
      "me_too_romantic_behavior     1615 non-null object\n",
      "marital_status               1615 non-null object\n",
      "children_u18                 1615 non-null object\n",
      "children_18+                 1615 non-null object\n",
      "children_none                1615 non-null object\n",
      "orientation                  1615 non-null object\n",
      "race                         1615 non-null object\n",
      "education                    1615 non-null object\n",
      "state                        1615 non-null object\n",
      "income                       1613 non-null object\n",
      "region                       1595 non-null object\n",
      "device                       1613 non-null object\n",
      "race2                        1615 non-null object\n",
      "racethn4                     1615 non-null object\n",
      "educ3                        1615 non-null object\n",
      "educ4                        1615 non-null object\n",
      "age3                         1615 non-null object\n",
      "kids                         1606 non-null object\n",
      "orientation.1                1615 non-null object\n",
      "weight                       1615 non-null float64\n",
      "dtypes: datetime64[ns](2), float64(1), object(94)\n",
      "memory usage: 1.2+ MB\n"
     ]
    }
   ],
   "source": [
    "responses.info()"
   ]
  },
  {
   "cell_type": "code",
   "execution_count": 26,
   "metadata": {},
   "outputs": [
    {
     "data": {
      "text/plain": [
       "(1615, 97)"
      ]
     },
     "execution_count": 26,
     "metadata": {},
     "output_type": "execute_result"
    }
   ],
   "source": [
    "responses.shape"
   ]
  },
  {
   "cell_type": "code",
   "execution_count": 24,
   "metadata": {},
   "outputs": [
    {
     "data": {
      "text/plain": [
       "A lot             432\n",
       "Some              225\n",
       "Nothing at all    137\n",
       "Only a little      85\n",
       "No answer           1\n",
       "Name: me_too_awareness, dtype: int64"
      ]
     },
     "execution_count": 24,
     "metadata": {},
     "output_type": "execute_result"
    }
   ],
   "source": [
    "responses['me_too_awareness'].value_counts()"
   ]
  },
  {
   "cell_type": "code",
   "execution_count": 25,
   "metadata": {},
   "outputs": [],
   "source": [
    "responses = responses[responses.me_too_awareness != 'No answer']"
   ]
  },
  {
   "cell_type": "code",
   "execution_count": 27,
   "metadata": {},
   "outputs": [
    {
     "data": {
      "text/plain": [
       "No           489\n",
       "Yes          247\n",
       "No answer      6\n",
       "Name: me_too_work_behavior, dtype: int64"
      ]
     },
     "execution_count": 27,
     "metadata": {},
     "output_type": "execute_result"
    }
   ],
   "source": [
    "responses['me_too_work_behavior'].value_counts()"
   ]
  },
  {
   "cell_type": "code",
   "execution_count": 28,
   "metadata": {},
   "outputs": [
    {
     "data": {
      "text/plain": [
       "No           1442\n",
       "Yes           144\n",
       "No answer      29\n",
       "Name: me_too_romantic_behavior, dtype: int64"
      ]
     },
     "execution_count": 28,
     "metadata": {},
     "output_type": "execute_result"
    }
   ],
   "source": [
    "responses['me_too_romantic_behavior'].value_counts()"
   ]
  },
  {
   "cell_type": "markdown",
   "metadata": {},
   "source": [
    "I'd like to make predictions on the two columns above. They are responses to the questions: <br>\n",
    "> As a man, would you say you think about your behavior differently at work in the wake of #MeToo? <br>\n",
    "> Have you changed your behavior in romantic relationships in the wake of the #MeToo movement?"
   ]
  },
  {
   "cell_type": "markdown",
   "metadata": {},
   "source": [
    "### 3 formats of survey question"
   ]
  },
  {
   "cell_type": "markdown",
   "metadata": {},
   "source": [
    "The survey had 3 distinct formats of questions, which each require a different approach to cleaning the data. Also, none of the questions were required, so respondents could skip any of the questions. If a respondent skipped a question, it was recorded as 'No answer' **(not Null/ NAN)**. \n",
    "\n",
    "Here is the breakdown of answers to the first question: \n",
    ">In general, how masculine or 'manly' do you feel?"
   ]
  },
  {
   "cell_type": "code",
   "execution_count": 29,
   "metadata": {},
   "outputs": [
    {
     "data": {
      "text/plain": [
       "Somewhat masculine      826\n",
       "Very masculine          612\n",
       "Not very masculine      131\n",
       "Not at all masculine     32\n",
       "No answer                14\n",
       "Name: self_manly, dtype: int64"
      ]
     },
     "execution_count": 29,
     "metadata": {},
     "output_type": "execute_result"
    }
   ],
   "source": [
    "responses['self_manly'].value_counts()"
   ]
  },
  {
   "cell_type": "markdown",
   "metadata": {},
   "source": [
    "With these 'multiple choice, single answer' questions, I needed to address the responses that did not answer the question.\n",
    "I didn't feel comfortable filling the value with the most common response, Somewhat masculine, so I decided to drop those lines. "
   ]
  },
  {
   "cell_type": "code",
   "execution_count": 26,
   "metadata": {},
   "outputs": [],
   "source": [
    "responses = responses[responses.self_manly != 'No answer']"
   ]
  },
  {
   "cell_type": "markdown",
   "metadata": {},
   "source": [
    "And the same with the next question:\n",
    ">'How important is it to you that others see you as masculine?"
   ]
  },
  {
   "cell_type": "code",
   "execution_count": 3,
   "metadata": {},
   "outputs": [
    {
     "data": {
      "text/plain": [
       "Somewhat important      628\n",
       "Not too important       541\n",
       "Not at all important    240\n",
       "Very important          197\n",
       "No answer                 9\n",
       "Name: others_manly, dtype: int64"
      ]
     },
     "execution_count": 3,
     "metadata": {},
     "output_type": "execute_result"
    }
   ],
   "source": [
    "responses['others_manly'].value_counts()"
   ]
  },
  {
   "cell_type": "code",
   "execution_count": 27,
   "metadata": {},
   "outputs": [],
   "source": [
    "responses = responses[responses.others_manly != 'No answer']"
   ]
  },
  {
   "cell_type": "markdown",
   "metadata": {},
   "source": [
    "I also needed to decide how to make these parseable- should I map each response to a numeric value, or create dummy columns? \n",
    "<br>The response options were on a graded scale, from 'Not at all' to 'Very', so I decided to map to numeric values (0-3)"
   ]
  },
  {
   "cell_type": "code",
   "execution_count": 28,
   "metadata": {},
   "outputs": [],
   "source": [
    "responses['self_manly'] = responses['self_manly'].map({'Not at all masculine':0, \n",
    "                                                       'Not very masculine':1, \n",
    "                                                       'Somewhat masculine':2,\n",
    "                                                        'Very masculine': 3})\n",
    "responses['others_manly'] = responses['others_manly'].map({'Not at all important':0, \n",
    "                                                           'Not too important':1, \n",
    "                                                           'Somewhat important':2, \n",
    "                                                           'Very important':3})"
   ]
  },
  {
   "cell_type": "markdown",
   "metadata": {},
   "source": [
    "What happens if I drop all lines that skipped any of the multi-choice, single answer questions? (i.e. ignoring the 'select all that apply', for now, how many rows left with?"
   ]
  },
  {
   "cell_type": "code",
   "execution_count": 30,
   "metadata": {},
   "outputs": [
    {
     "data": {
      "text/plain": [
       "(1596, 97)"
      ]
     },
     "execution_count": 30,
     "metadata": {},
     "output_type": "execute_result"
    }
   ],
   "source": [
    "responses.shape"
   ]
  },
  {
   "cell_type": "code",
   "execution_count": null,
   "metadata": {},
   "outputs": [],
   "source": [
    "responses = responses[responses.self_manly != 'No answer']\n",
    "responses = responses[responses.self_manly != 'No answer']\n",
    "responses = responses[responses.self_manly != 'No answer']\n",
    "responses = responses[responses.self_manly != 'No answer']\n",
    "responses = responses[responses.self_manly != 'No answer']"
   ]
  },
  {
   "cell_type": "markdown",
   "metadata": {},
   "source": [
    "There were also questions that allowed the respondent to select multiple answers- questions that ended with 'Select all that apply'. These were represented by a set of columns, one for each option (kind of like dummy columns).\n",
    "The question 'Where have you gotten your ideas about what it means to be a good man?', had the following response options:\n",
    "\n",
    "-  Father or father figure\n",
    "-  Mother or mother figure\n",
    "-  Friends\n",
    "-  Other family members\n",
    "-  Pop culture\n",
    "-  Other\n",
    "\n",
    "Each of the options above had its own column in the raw responses. Here is the value breakdown for the column representing the respondent selecing 'Father or Father figure':"
   ]
  },
  {
   "cell_type": "code",
   "execution_count": 4,
   "metadata": {},
   "outputs": [
    {
     "data": {
      "text/plain": [
       "Father or father figure(s)    1103\n",
       "Not selected                   498\n",
       "Name: source_ideas_father, dtype: int64"
      ]
     },
     "execution_count": 4,
     "metadata": {},
     "output_type": "execute_result"
    }
   ],
   "source": [
    "responses['source_ideas_father'].value_counts()"
   ]
  },
  {
   "cell_type": "markdown",
   "metadata": {},
   "source": [
    "For each of these types of questions, I need to check the columns for all possible answers, and verify that at least one option was selected. If all columns contain 'Not selected', then I know the question was skipped."
   ]
  },
  {
   "cell_type": "markdown",
   "metadata": {},
   "source": [
    "I also already know that I want to drop several questions, so I will do that first."
   ]
  },
  {
   "cell_type": "code",
   "execution_count": 39,
   "metadata": {},
   "outputs": [],
   "source": [
    "responses = responses.drop(['harass_no_response_reason', 'pay_right_thing', \n",
    "                           'pay_make_more', 'pay_feel_good', 'pay_expectation', \n",
    "                           'pay_initiator_obligation', 'pay_test_share', 'pay_other',\n",
    "                            'children_u18', 'children_18+', 'children_none', 'orientation', \n",
    "                           'device', 'race2', 'racethn4', 'educ3', 'educ4', 'weight'], axis = 1)"
   ]
  },
  {
   "cell_type": "code",
   "execution_count": 6,
   "metadata": {},
   "outputs": [
    {
     "data": {
      "text/plain": [
       "(1601, 80)"
      ]
     },
     "execution_count": 6,
     "metadata": {},
     "output_type": "execute_result"
    }
   ],
   "source": [
    "responses.shape"
   ]
  },
  {
   "cell_type": "markdown",
   "metadata": {},
   "source": [
    "Next I'm going to create a new column, flagging any lines that did not select one of the options. Before I do this, I need to map the column values using this pattern: \n",
    "</br> \n",
    ">Response selected = 1 (i.e. cell value is 'Father or father figures') </br>\n",
    ">Not selected = 0 "
   ]
  },
  {
   "cell_type": "code",
   "execution_count": 40,
   "metadata": {},
   "outputs": [],
   "source": [
    "cols = ['source_ideas_father', 'source_ideas_mother', 'source_ideas_friends', 'source_ideas_family','source_ideas_popculture','source_ideas_other']\n",
    "\n",
    "for col in cols:\n",
    "    responses[col] = responses[col].map({'Not selected': 0})"
   ]
  },
  {
   "cell_type": "code",
   "execution_count": 24,
   "metadata": {},
   "outputs": [
    {
     "data": {
      "text/plain": [
       "0.0    498\n",
       "Name: source_ideas_father, dtype: int64"
      ]
     },
     "execution_count": 24,
     "metadata": {},
     "output_type": "execute_result"
    }
   ],
   "source": [
    "responses['source_ideas_father'].value_counts()"
   ]
  },
  {
   "cell_type": "code",
   "execution_count": 25,
   "metadata": {},
   "outputs": [
    {
     "data": {
      "text/plain": [
       "1    0.0\n",
       "2    NaN\n",
       "3    NaN\n",
       "4    NaN\n",
       "5    0.0\n",
       "Name: source_ideas_father, dtype: float64"
      ]
     },
     "execution_count": 25,
     "metadata": {},
     "output_type": "execute_result"
    }
   ],
   "source": [
    "responses['source_ideas_father'].head()"
   ]
  },
  {
   "cell_type": "code",
   "execution_count": 41,
   "metadata": {},
   "outputs": [],
   "source": [
    "responses[cols] = responses[cols].fillna(1)"
   ]
  },
  {
   "cell_type": "code",
   "execution_count": 42,
   "metadata": {},
   "outputs": [
    {
     "data": {
      "text/html": [
       "<div>\n",
       "<style scoped>\n",
       "    .dataframe tbody tr th:only-of-type {\n",
       "        vertical-align: middle;\n",
       "    }\n",
       "\n",
       "    .dataframe tbody tr th {\n",
       "        vertical-align: top;\n",
       "    }\n",
       "\n",
       "    .dataframe thead th {\n",
       "        text-align: right;\n",
       "    }\n",
       "</style>\n",
       "<table border=\"1\" class=\"dataframe\">\n",
       "  <thead>\n",
       "    <tr style=\"text-align: right;\">\n",
       "      <th></th>\n",
       "      <th>source_ideas_father</th>\n",
       "      <th>source_ideas_mother</th>\n",
       "      <th>source_ideas_friends</th>\n",
       "      <th>source_ideas_family</th>\n",
       "      <th>source_ideas_popculture</th>\n",
       "      <th>source_ideas_other</th>\n",
       "    </tr>\n",
       "  </thead>\n",
       "  <tbody>\n",
       "    <tr>\n",
       "      <th>1</th>\n",
       "      <td>0.0</td>\n",
       "      <td>0.0</td>\n",
       "      <td>0.0</td>\n",
       "      <td>0.0</td>\n",
       "      <td>1.0</td>\n",
       "      <td>0.0</td>\n",
       "    </tr>\n",
       "    <tr>\n",
       "      <th>2</th>\n",
       "      <td>1.0</td>\n",
       "      <td>0.0</td>\n",
       "      <td>0.0</td>\n",
       "      <td>0.0</td>\n",
       "      <td>0.0</td>\n",
       "      <td>0.0</td>\n",
       "    </tr>\n",
       "    <tr>\n",
       "      <th>3</th>\n",
       "      <td>1.0</td>\n",
       "      <td>0.0</td>\n",
       "      <td>0.0</td>\n",
       "      <td>0.0</td>\n",
       "      <td>0.0</td>\n",
       "      <td>1.0</td>\n",
       "    </tr>\n",
       "    <tr>\n",
       "      <th>4</th>\n",
       "      <td>1.0</td>\n",
       "      <td>1.0</td>\n",
       "      <td>0.0</td>\n",
       "      <td>1.0</td>\n",
       "      <td>0.0</td>\n",
       "      <td>0.0</td>\n",
       "    </tr>\n",
       "    <tr>\n",
       "      <th>5</th>\n",
       "      <td>0.0</td>\n",
       "      <td>0.0</td>\n",
       "      <td>0.0</td>\n",
       "      <td>1.0</td>\n",
       "      <td>0.0</td>\n",
       "      <td>0.0</td>\n",
       "    </tr>\n",
       "  </tbody>\n",
       "</table>\n",
       "</div>"
      ],
      "text/plain": [
       "   source_ideas_father  source_ideas_mother  source_ideas_friends  \\\n",
       "1                  0.0                  0.0                   0.0   \n",
       "2                  1.0                  0.0                   0.0   \n",
       "3                  1.0                  0.0                   0.0   \n",
       "4                  1.0                  1.0                   0.0   \n",
       "5                  0.0                  0.0                   0.0   \n",
       "\n",
       "   source_ideas_family  source_ideas_popculture  source_ideas_other  \n",
       "1                  0.0                      1.0                 0.0  \n",
       "2                  0.0                      0.0                 0.0  \n",
       "3                  0.0                      0.0                 1.0  \n",
       "4                  1.0                      0.0                 0.0  \n",
       "5                  1.0                      0.0                 0.0  "
      ]
     },
     "execution_count": 42,
     "metadata": {},
     "output_type": "execute_result"
    }
   ],
   "source": [
    "responses[cols].head()"
   ]
  },
  {
   "cell_type": "code",
   "execution_count": 43,
   "metadata": {},
   "outputs": [
    {
     "data": {
      "text/plain": [
       "1.0    1103\n",
       "0.0     498\n",
       "Name: source_ideas_father, dtype: int64"
      ]
     },
     "execution_count": 43,
     "metadata": {},
     "output_type": "execute_result"
    }
   ],
   "source": [
    "responses['source_ideas_father'].value_counts()"
   ]
  },
  {
   "cell_type": "code",
   "execution_count": 44,
   "metadata": {},
   "outputs": [],
   "source": [
    "responses['answered_self_manly'] = responses.loc[:, ['source_ideas_father', 'source_ideas_mother', 'source_ideas_friends', \n",
    "                                                     'source_ideas_family','source_ideas_popculture','source_ideas_other' ]].sum(axis=1) > 0"
   ]
  },
  {
   "cell_type": "code",
   "execution_count": 45,
   "metadata": {},
   "outputs": [
    {
     "data": {
      "text/plain": [
       "True     1593\n",
       "False       8\n",
       "Name: answered_self_manly, dtype: int64"
      ]
     },
     "execution_count": 45,
     "metadata": {},
     "output_type": "execute_result"
    }
   ],
   "source": [
    "responses['answered_self_manly'].value_counts()"
   ]
  },
  {
   "cell_type": "markdown",
   "metadata": {},
   "source": [
    "Which of the following do you worry about on a daily or near daily basis?\n",
    ">Your height\n",
    "<br>Your weight\n",
    "<br>Your hair or hairline\n",
    "<br>Your physique\n",
    "<br>Appearance of your genitalia\n",
    "<br>Your clothing/ style\n",
    "<br>Sexual performance or amoutnof sex\n",
    "<br>Your mental health\n",
    "<br>Your physical health\n",
    "<br>Your finances including current or future assets and debt\n",
    "<br>Your ability to provide for your current or anticipated family"
   ]
  },
  {
   "cell_type": "markdown",
   "metadata": {},
   "source": [
    "In which of the following ways would you say it's an **advantage** to be a man at work right now?\n",
    ">Men make more money\n",
    "<br>Men are taken more seriously\n",
    "<br>Men have more choice\n",
    "<br>Men have more promotion/ professional development opportunities\n",
    "<br>Men are explicitly praised more often\n",
    "<br>Men generally have more support from their managers\n",
    "<br>Other (Please specify)\n",
    "<br>None of the above"
   ]
  },
  {
   "cell_type": "markdown",
   "metadata": {},
   "source": [
    "In which of the following ways would you say it's a **disadvantage** to be a man at work right now?\n",
    ">Managers want to hire and promote women\n",
    "<br>Greater risk of being accused of sexual harassment\n",
    "<br>Greater risk of being accused of being sexist or racist\n",
    "<br>Other (please specify)\n",
    "<br>None of the above"
   ]
  },
  {
   "cell_type": "code",
   "execution_count": 46,
   "metadata": {},
   "outputs": [],
   "source": [
    "worry_cols = ['worry_height', 'worry_weight', 'worry_hair', 'worry_physique', 'worry_genitalia', 'worry_style', 'worry_sex', 'worry_mental_health', 'worry_phys_health', 'worry_finances', 'worry_provide', 'no_worries']\n",
    "male_adv_cols = ['men_earn_more', 'men_taken_serious', 'men_more_choice', 'men_more_promo', 'men_more_praise', 'men_more_support', 'no_male_advantages', 'men_advantage_other']\n",
    "male_disadv_cols = ['hire_women', 'sex_harass', 'sexist_racist', 'men_disadvantage_none', 'men_disadvantage_other']\n",
    "harass_cols = ['harass_confront', 'harass_HR', 'harass_manager', 'harass_support', 'harass_no_response', 'harass_never_seen', 'harass_other']\n",
    "int_cols = ['int_body_lang', 'int_verb_conf', 'int_phys_move', 'int_diff_sit', 'int_unclear', 'int_other']\n",
    "bound_cols = ['bound_wonder', 'bound_talk', 'bound_contact', 'bound_none']"
   ]
  },
  {
   "cell_type": "code",
   "execution_count": 50,
   "metadata": {},
   "outputs": [],
   "source": [
    "col_list = [worry_cols, male_adv_cols, male_disadv_cols, harass_cols, int_cols, bound_cols]\n",
    "\n",
    "for group in col_list:\n",
    "    for col in range(0, len(group)):\n",
    "        responses[group[col]] = responses[group[col]].map({'Not selected': 0})\n",
    "        col +=1\n",
    "        \n",
    "    responses[group] = responses[group].fillna(1)"
   ]
  },
  {
   "cell_type": "code",
   "execution_count": 53,
   "metadata": {},
   "outputs": [],
   "source": [
    "responses['answered_worry'] = responses[worry_cols].sum(axis=1) > 0\n",
    "responses['answered_male_advantages'] = responses[male_adv_cols].sum(axis=1) > 0\n",
    "responses['answered_male_disadv'] = responses[male_disadv_cols].sum(axis=1) > 0\n",
    "responses['answered_harass'] = responses[harass_cols].sum(axis=1) > 0\n",
    "responses['answered_int'] = responses[int_cols].sum(axis=1) > 0\n",
    "responses['answered_bound'] = responses[bound_cols].sum(axis=1) > 0"
   ]
  },
  {
   "cell_type": "code",
   "execution_count": null,
   "metadata": {},
   "outputs": [],
   "source": []
  },
  {
   "cell_type": "code",
   "execution_count": null,
   "metadata": {},
   "outputs": [],
   "source": []
  },
  {
   "cell_type": "code",
   "execution_count": null,
   "metadata": {},
   "outputs": [],
   "source": []
  },
  {
   "cell_type": "code",
   "execution_count": null,
   "metadata": {},
   "outputs": [],
   "source": []
  },
  {
   "cell_type": "code",
   "execution_count": null,
   "metadata": {},
   "outputs": [],
   "source": []
  },
  {
   "cell_type": "code",
   "execution_count": null,
   "metadata": {},
   "outputs": [],
   "source": []
  },
  {
   "cell_type": "code",
   "execution_count": null,
   "metadata": {},
   "outputs": [],
   "source": []
  },
  {
   "cell_type": "code",
   "execution_count": null,
   "metadata": {},
   "outputs": [],
   "source": []
  },
  {
   "cell_type": "code",
   "execution_count": null,
   "metadata": {},
   "outputs": [],
   "source": []
  },
  {
   "cell_type": "markdown",
   "metadata": {},
   "source": [
    "#### Drop lines with 'No Answer' values- or treat 'No answer' values as another category 'Not comfortable providing answer' ?"
   ]
  },
  {
   "cell_type": "code",
   "execution_count": 19,
   "metadata": {},
   "outputs": [
    {
     "data": {
      "text/plain": [
       "(1591, 80)"
      ]
     },
     "execution_count": 19,
     "metadata": {},
     "output_type": "execute_result"
    }
   ],
   "source": [
    "responses = responses[responses.societal_pressure != 'No answer']\n",
    "responses.shape"
   ]
  },
  {
   "cell_type": "code",
   "execution_count": 20,
   "metadata": {},
   "outputs": [
    {
     "data": {
      "text/plain": [
       "(1579, 80)"
      ]
     },
     "execution_count": 20,
     "metadata": {},
     "output_type": "execute_result"
    }
   ],
   "source": [
    "responses = responses[responses.prof_advice != 'No answer']\n",
    "responses.shape"
   ]
  },
  {
   "cell_type": "code",
   "execution_count": 21,
   "metadata": {},
   "outputs": [
    {
     "data": {
      "text/plain": [
       "(1568, 80)"
      ]
     },
     "execution_count": 21,
     "metadata": {},
     "output_type": "execute_result"
    }
   ],
   "source": [
    "responses = responses[responses.personal_advice != 'No answer']\n",
    "responses.shape"
   ]
  },
  {
   "cell_type": "code",
   "execution_count": 22,
   "metadata": {},
   "outputs": [
    {
     "data": {
      "text/plain": [
       "(1562, 80)"
      ]
     },
     "execution_count": 22,
     "metadata": {},
     "output_type": "execute_result"
    }
   ],
   "source": [
    "responses = responses[responses.phys_aff != 'No answer']\n",
    "responses.shape"
   ]
  },
  {
   "cell_type": "code",
   "execution_count": 23,
   "metadata": {},
   "outputs": [
    {
     "data": {
      "text/plain": [
       "(1481, 80)"
      ]
     },
     "execution_count": 23,
     "metadata": {},
     "output_type": "execute_result"
    }
   ],
   "source": [
    "responses = responses[responses.cry != 'No answer']\n",
    "responses.shape"
   ]
  },
  {
   "cell_type": "markdown",
   "metadata": {},
   "source": [
    "> 81 men chose not to respond to the question about crying"
   ]
  },
  {
   "cell_type": "code",
   "execution_count": 24,
   "metadata": {},
   "outputs": [
    {
     "data": {
      "text/plain": [
       "(1478, 80)"
      ]
     },
     "execution_count": 24,
     "metadata": {},
     "output_type": "execute_result"
    }
   ],
   "source": [
    "responses = responses[responses.phys_fight != 'No answer']\n",
    "responses.shape"
   ]
  },
  {
   "cell_type": "code",
   "execution_count": 25,
   "metadata": {},
   "outputs": [
    {
     "data": {
      "text/plain": [
       "(1458, 80)"
      ]
     },
     "execution_count": 25,
     "metadata": {},
     "output_type": "execute_result"
    }
   ],
   "source": [
    "responses = responses[responses.sex_women != 'No answer']\n",
    "responses.shape"
   ]
  },
  {
   "cell_type": "code",
   "execution_count": 26,
   "metadata": {},
   "outputs": [
    {
     "data": {
      "text/plain": [
       "(1455, 80)"
      ]
     },
     "execution_count": 26,
     "metadata": {},
     "output_type": "execute_result"
    }
   ],
   "source": [
    "responses = responses[responses.sex_men != 'No answer']\n",
    "responses.shape"
   ]
  },
  {
   "cell_type": "code",
   "execution_count": 27,
   "metadata": {},
   "outputs": [
    {
     "data": {
      "text/plain": [
       "(1448, 80)"
      ]
     },
     "execution_count": 27,
     "metadata": {},
     "output_type": "execute_result"
    }
   ],
   "source": [
    "responses = responses[responses.sports != 'No answer']\n",
    "responses.shape"
   ]
  },
  {
   "cell_type": "code",
   "execution_count": 28,
   "metadata": {},
   "outputs": [
    {
     "data": {
      "text/plain": [
       "(1422, 80)"
      ]
     },
     "execution_count": 28,
     "metadata": {},
     "output_type": "execute_result"
    }
   ],
   "source": [
    "responses = responses[responses.workout != 'No answer']\n",
    "responses.shape"
   ]
  },
  {
   "cell_type": "code",
   "execution_count": 29,
   "metadata": {},
   "outputs": [
    {
     "data": {
      "text/plain": [
       "(1407, 80)"
      ]
     },
     "execution_count": 29,
     "metadata": {},
     "output_type": "execute_result"
    }
   ],
   "source": [
    "responses = responses[responses.therapist != 'No answer']\n",
    "responses.shape"
   ]
  },
  {
   "cell_type": "code",
   "execution_count": 30,
   "metadata": {},
   "outputs": [
    {
     "data": {
      "text/plain": [
       "(1393, 80)"
      ]
     },
     "execution_count": 30,
     "metadata": {},
     "output_type": "execute_result"
    }
   ],
   "source": [
    "responses = responses[responses.lonely != 'No answer']\n",
    "responses.shape"
   ]
  },
  {
   "cell_type": "code",
   "execution_count": 5,
   "metadata": {},
   "outputs": [
    {
     "data": {
      "text/plain": [
       "Employed, working full-time           737\n",
       "Not employed-retired                  524\n",
       "Employed, working part-time           143\n",
       "Not employed, NOT looking for work    110\n",
       "Not employed, looking for work         68\n",
       "Not employed, student                  30\n",
       "No answer                               3\n",
       "Name: Employment, dtype: int64"
      ]
     },
     "execution_count": 5,
     "metadata": {},
     "output_type": "execute_result"
    }
   ],
   "source": [
    "responses['Employment'].value_counts()"
   ]
  },
  {
   "cell_type": "markdown",
   "metadata": {},
   "source": [
    "Next, for 'Select all that apply' questions, I need to verify that at least one response was chosen, otherwise treat that as 'No answer'"
   ]
  },
  {
   "cell_type": "code",
   "execution_count": 13,
   "metadata": {},
   "outputs": [
    {
     "data": {
      "text/html": [
       "<div>\n",
       "<style scoped>\n",
       "    .dataframe tbody tr th:only-of-type {\n",
       "        vertical-align: middle;\n",
       "    }\n",
       "\n",
       "    .dataframe tbody tr th {\n",
       "        vertical-align: top;\n",
       "    }\n",
       "\n",
       "    .dataframe thead th {\n",
       "        text-align: right;\n",
       "    }\n",
       "</style>\n",
       "<table border=\"1\" class=\"dataframe\">\n",
       "  <thead>\n",
       "    <tr style=\"text-align: right;\">\n",
       "      <th></th>\n",
       "      <th>StartDate</th>\n",
       "      <th>EndDate</th>\n",
       "      <th>self_manly</th>\n",
       "      <th>others_manly</th>\n",
       "      <th>source_ideas_father</th>\n",
       "      <th>source_ideas_mother</th>\n",
       "      <th>source_ideas_friends</th>\n",
       "      <th>source_ideas_fam</th>\n",
       "      <th>source_ideas_popculture</th>\n",
       "      <th>source_ideas_other</th>\n",
       "      <th>...</th>\n",
       "      <th>marital_status</th>\n",
       "      <th>children_u18</th>\n",
       "      <th>children_18+</th>\n",
       "      <th>children_none</th>\n",
       "      <th>race</th>\n",
       "      <th>education</th>\n",
       "      <th>state</th>\n",
       "      <th>income</th>\n",
       "      <th>region</th>\n",
       "      <th>orientation.1</th>\n",
       "    </tr>\n",
       "  </thead>\n",
       "  <tbody>\n",
       "    <tr>\n",
       "      <th>1</th>\n",
       "      <td>2018-05-10 04:01:00</td>\n",
       "      <td>2018-05-10 04:06:00</td>\n",
       "      <td>Somewhat masculine</td>\n",
       "      <td>Somewhat important</td>\n",
       "      <td>Not selected</td>\n",
       "      <td>Not selected</td>\n",
       "      <td>Not selected</td>\n",
       "      <td>Pop culture</td>\n",
       "      <td>Not selected</td>\n",
       "      <td>Not selected</td>\n",
       "      <td>...</td>\n",
       "      <td>Never married</td>\n",
       "      <td>Not selected</td>\n",
       "      <td>Not selected</td>\n",
       "      <td>No children</td>\n",
       "      <td>Hispanic</td>\n",
       "      <td>College graduate</td>\n",
       "      <td>New York</td>\n",
       "      <td>$0-$9,999</td>\n",
       "      <td>Middle Atlantic</td>\n",
       "      <td>Gay/Bisexual</td>\n",
       "    </tr>\n",
       "    <tr>\n",
       "      <th>2</th>\n",
       "      <td>2018-05-10 06:30:00</td>\n",
       "      <td>2018-05-10 06:53:00</td>\n",
       "      <td>Somewhat masculine</td>\n",
       "      <td>Somewhat important</td>\n",
       "      <td>Father or father figure(s)</td>\n",
       "      <td>Not selected</td>\n",
       "      <td>Not selected</td>\n",
       "      <td>Not selected</td>\n",
       "      <td>Not selected</td>\n",
       "      <td>Not selected</td>\n",
       "      <td>...</td>\n",
       "      <td>Widowed</td>\n",
       "      <td>Not selected</td>\n",
       "      <td>Yes, one or more children 18 or older</td>\n",
       "      <td>Not selected</td>\n",
       "      <td>White</td>\n",
       "      <td>Some college</td>\n",
       "      <td>Ohio</td>\n",
       "      <td>$50,000-$74,999</td>\n",
       "      <td>East North Central</td>\n",
       "      <td>Straight</td>\n",
       "    </tr>\n",
       "    <tr>\n",
       "      <th>3</th>\n",
       "      <td>2018-05-10 07:02:00</td>\n",
       "      <td>2018-05-10 07:09:00</td>\n",
       "      <td>Very masculine</td>\n",
       "      <td>Not too important</td>\n",
       "      <td>Father or father figure(s)</td>\n",
       "      <td>Not selected</td>\n",
       "      <td>Not selected</td>\n",
       "      <td>Not selected</td>\n",
       "      <td>Not selected</td>\n",
       "      <td>Other (please specify)</td>\n",
       "      <td>...</td>\n",
       "      <td>Married</td>\n",
       "      <td>Not selected</td>\n",
       "      <td>Yes, one or more children 18 or older</td>\n",
       "      <td>Not selected</td>\n",
       "      <td>White</td>\n",
       "      <td>College graduate</td>\n",
       "      <td>Michigan</td>\n",
       "      <td>$50,000-$74,999</td>\n",
       "      <td>East North Central</td>\n",
       "      <td>Straight</td>\n",
       "    </tr>\n",
       "    <tr>\n",
       "      <th>4</th>\n",
       "      <td>2018-05-10 07:27:00</td>\n",
       "      <td>2018-05-10 07:31:00</td>\n",
       "      <td>Very masculine</td>\n",
       "      <td>Not too important</td>\n",
       "      <td>Father or father figure(s)</td>\n",
       "      <td>Mother or mother figure(s)</td>\n",
       "      <td>Other family members</td>\n",
       "      <td>Not selected</td>\n",
       "      <td>Not selected</td>\n",
       "      <td>Not selected</td>\n",
       "      <td>...</td>\n",
       "      <td>Married</td>\n",
       "      <td>Not selected</td>\n",
       "      <td>Yes, one or more children 18 or older</td>\n",
       "      <td>Not selected</td>\n",
       "      <td>White</td>\n",
       "      <td>Some college</td>\n",
       "      <td>Indiana</td>\n",
       "      <td>$50,000-$74,999</td>\n",
       "      <td>East North Central</td>\n",
       "      <td>No answer</td>\n",
       "    </tr>\n",
       "  </tbody>\n",
       "</table>\n",
       "<p>4 rows × 80 columns</p>\n",
       "</div>"
      ],
      "text/plain": [
       "            StartDate             EndDate          self_manly  \\\n",
       "1 2018-05-10 04:01:00 2018-05-10 04:06:00  Somewhat masculine   \n",
       "2 2018-05-10 06:30:00 2018-05-10 06:53:00  Somewhat masculine   \n",
       "3 2018-05-10 07:02:00 2018-05-10 07:09:00      Very masculine   \n",
       "4 2018-05-10 07:27:00 2018-05-10 07:31:00      Very masculine   \n",
       "\n",
       "         others_manly         source_ideas_father         source_ideas_mother  \\\n",
       "1  Somewhat important                Not selected                Not selected   \n",
       "2  Somewhat important  Father or father figure(s)                Not selected   \n",
       "3   Not too important  Father or father figure(s)                Not selected   \n",
       "4   Not too important  Father or father figure(s)  Mother or mother figure(s)   \n",
       "\n",
       "   source_ideas_friends source_ideas_fam source_ideas_popculture  \\\n",
       "1          Not selected      Pop culture            Not selected   \n",
       "2          Not selected     Not selected            Not selected   \n",
       "3          Not selected     Not selected            Not selected   \n",
       "4  Other family members     Not selected            Not selected   \n",
       "\n",
       "       source_ideas_other      ...      marital_status  children_u18  \\\n",
       "1            Not selected      ...       Never married  Not selected   \n",
       "2            Not selected      ...             Widowed  Not selected   \n",
       "3  Other (please specify)      ...             Married  Not selected   \n",
       "4            Not selected      ...             Married  Not selected   \n",
       "\n",
       "                            children_18+ children_none      race  \\\n",
       "1                           Not selected   No children  Hispanic   \n",
       "2  Yes, one or more children 18 or older  Not selected     White   \n",
       "3  Yes, one or more children 18 or older  Not selected     White   \n",
       "4  Yes, one or more children 18 or older  Not selected     White   \n",
       "\n",
       "          education     state           income              region  \\\n",
       "1  College graduate  New York        $0-$9,999     Middle Atlantic   \n",
       "2      Some college      Ohio  $50,000-$74,999  East North Central   \n",
       "3  College graduate  Michigan  $50,000-$74,999  East North Central   \n",
       "4      Some college   Indiana  $50,000-$74,999  East North Central   \n",
       "\n",
       "  orientation.1  \n",
       "1  Gay/Bisexual  \n",
       "2      Straight  \n",
       "3      Straight  \n",
       "4     No answer  \n",
       "\n",
       "[4 rows x 80 columns]"
      ]
     },
     "execution_count": 13,
     "metadata": {},
     "output_type": "execute_result"
    }
   ],
   "source": [
    "responses.loc[range(1,5)]"
   ]
  },
  {
   "cell_type": "code",
   "execution_count": null,
   "metadata": {},
   "outputs": [],
   "source": [
    "map values to 1 = response, 0 = no answer\n",
    "\n",
    "responses[source_ideas]\n",
    "\n",
    "for i in index\n",
    "    source_ideas_responses = responses.loc[i, ['source_ideas_father','source_ideas_mother', 'source_ideas_friends', \n",
    "                                               'source_ideas_fam', 'source_ideas_popculture', 'source_ideas_other']]\n",
    "    if sum(source_ideas_responses) > 0\n",
    "        responses.loc[i, 'source_ideas'] = 1\n",
    "    else\n",
    "        responses.loc[i, 'source_ideas'] = 0"
   ]
  }
 ],
 "metadata": {
  "kernelspec": {
   "display_name": "Python 3",
   "language": "python",
   "name": "python3"
  },
  "language_info": {
   "codemirror_mode": {
    "name": "ipython",
    "version": 3
   },
   "file_extension": ".py",
   "mimetype": "text/x-python",
   "name": "python",
   "nbconvert_exporter": "python",
   "pygments_lexer": "ipython3",
   "version": "3.7.0"
  }
 },
 "nbformat": 4,
 "nbformat_minor": 2
}
